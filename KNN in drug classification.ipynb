{
 "cells": [
  {
   "cell_type": "code",
   "execution_count": 1,
   "id": "56036bde",
   "metadata": {},
   "outputs": [],
   "source": [
    "import pandas as pd\n",
    "import numpy as np\n",
    "import matplotlib.pyplot as plt\n",
    "import seaborn as sns"
   ]
  },
  {
   "cell_type": "code",
   "execution_count": 2,
   "id": "76ea52c5",
   "metadata": {},
   "outputs": [
    {
     "data": {
      "text/html": [
       "<div>\n",
       "<style scoped>\n",
       "    .dataframe tbody tr th:only-of-type {\n",
       "        vertical-align: middle;\n",
       "    }\n",
       "\n",
       "    .dataframe tbody tr th {\n",
       "        vertical-align: top;\n",
       "    }\n",
       "\n",
       "    .dataframe thead th {\n",
       "        text-align: right;\n",
       "    }\n",
       "</style>\n",
       "<table border=\"1\" class=\"dataframe\">\n",
       "  <thead>\n",
       "    <tr style=\"text-align: right;\">\n",
       "      <th></th>\n",
       "      <th>Age</th>\n",
       "      <th>Sex</th>\n",
       "      <th>BP</th>\n",
       "      <th>Cholesterol</th>\n",
       "      <th>Na_to_K</th>\n",
       "      <th>Drug</th>\n",
       "    </tr>\n",
       "  </thead>\n",
       "  <tbody>\n",
       "    <tr>\n",
       "      <th>0</th>\n",
       "      <td>23</td>\n",
       "      <td>F</td>\n",
       "      <td>HIGH</td>\n",
       "      <td>HIGH</td>\n",
       "      <td>25.355</td>\n",
       "      <td>DrugY</td>\n",
       "    </tr>\n",
       "    <tr>\n",
       "      <th>1</th>\n",
       "      <td>47</td>\n",
       "      <td>M</td>\n",
       "      <td>LOW</td>\n",
       "      <td>HIGH</td>\n",
       "      <td>13.093</td>\n",
       "      <td>drugC</td>\n",
       "    </tr>\n",
       "    <tr>\n",
       "      <th>2</th>\n",
       "      <td>47</td>\n",
       "      <td>M</td>\n",
       "      <td>LOW</td>\n",
       "      <td>HIGH</td>\n",
       "      <td>10.114</td>\n",
       "      <td>drugC</td>\n",
       "    </tr>\n",
       "    <tr>\n",
       "      <th>3</th>\n",
       "      <td>28</td>\n",
       "      <td>F</td>\n",
       "      <td>NORMAL</td>\n",
       "      <td>HIGH</td>\n",
       "      <td>7.798</td>\n",
       "      <td>drugX</td>\n",
       "    </tr>\n",
       "    <tr>\n",
       "      <th>4</th>\n",
       "      <td>61</td>\n",
       "      <td>F</td>\n",
       "      <td>LOW</td>\n",
       "      <td>HIGH</td>\n",
       "      <td>18.043</td>\n",
       "      <td>DrugY</td>\n",
       "    </tr>\n",
       "  </tbody>\n",
       "</table>\n",
       "</div>"
      ],
      "text/plain": [
       "   Age Sex      BP Cholesterol  Na_to_K   Drug\n",
       "0   23   F    HIGH        HIGH   25.355  DrugY\n",
       "1   47   M     LOW        HIGH   13.093  drugC\n",
       "2   47   M     LOW        HIGH   10.114  drugC\n",
       "3   28   F  NORMAL        HIGH    7.798  drugX\n",
       "4   61   F     LOW        HIGH   18.043  DrugY"
      ]
     },
     "execution_count": 2,
     "metadata": {},
     "output_type": "execute_result"
    }
   ],
   "source": [
    "df = pd.read_csv(\"drug.csv\")  # Taking dataset\n",
    "df.head()"
   ]
  },
  {
   "cell_type": "markdown",
   "id": "34ea9193",
   "metadata": {},
   "source": [
    "#### Data Preprocessing"
   ]
  },
  {
   "cell_type": "code",
   "execution_count": 3,
   "id": "42585107",
   "metadata": {},
   "outputs": [
    {
     "data": {
      "text/plain": [
       "Age            0\n",
       "Sex            0\n",
       "BP             0\n",
       "Cholesterol    0\n",
       "Na_to_K        0\n",
       "Drug           0\n",
       "dtype: int64"
      ]
     },
     "execution_count": 3,
     "metadata": {},
     "output_type": "execute_result"
    }
   ],
   "source": [
    "# Finding null values\n",
    "\n",
    "df.isnull().sum()"
   ]
  },
  {
   "cell_type": "code",
   "execution_count": 4,
   "id": "69e9cf92",
   "metadata": {},
   "outputs": [
    {
     "data": {
      "text/plain": [
       "array(['DrugY', 'drugC', 'drugX', 'drugA', 'drugB'], dtype=object)"
      ]
     },
     "execution_count": 4,
     "metadata": {},
     "output_type": "execute_result"
    }
   ],
   "source": [
    "df['Drug'].unique()"
   ]
  },
  {
   "cell_type": "code",
   "execution_count": 5,
   "id": "7d470247",
   "metadata": {},
   "outputs": [
    {
     "data": {
      "text/plain": [
       "(200, 6)"
      ]
     },
     "execution_count": 5,
     "metadata": {},
     "output_type": "execute_result"
    }
   ],
   "source": [
    "df.shape # Checking number of rows and columns"
   ]
  },
  {
   "cell_type": "code",
   "execution_count": 6,
   "id": "dce975ec",
   "metadata": {},
   "outputs": [
    {
     "data": {
      "text/plain": [
       "Age            0\n",
       "Sex            0\n",
       "BP             0\n",
       "Cholesterol    0\n",
       "Na_to_K        0\n",
       "Drug           0\n",
       "dtype: int64"
      ]
     },
     "execution_count": 6,
     "metadata": {},
     "output_type": "execute_result"
    }
   ],
   "source": [
    "df.isna().sum() #Checking for NaN values"
   ]
  },
  {
   "cell_type": "code",
   "execution_count": 7,
   "id": "22ad9c0d",
   "metadata": {},
   "outputs": [
    {
     "name": "stdout",
     "output_type": "stream",
     "text": [
      "<class 'pandas.core.frame.DataFrame'>\n",
      "RangeIndex: 200 entries, 0 to 199\n",
      "Data columns (total 6 columns):\n",
      " #   Column       Non-Null Count  Dtype  \n",
      "---  ------       --------------  -----  \n",
      " 0   Age          200 non-null    int64  \n",
      " 1   Sex          200 non-null    object \n",
      " 2   BP           200 non-null    object \n",
      " 3   Cholesterol  200 non-null    object \n",
      " 4   Na_to_K      200 non-null    float64\n",
      " 5   Drug         200 non-null    object \n",
      "dtypes: float64(1), int64(1), object(4)\n",
      "memory usage: 9.5+ KB\n"
     ]
    }
   ],
   "source": [
    "df.info()"
   ]
  },
  {
   "cell_type": "code",
   "execution_count": 8,
   "id": "275ed16d",
   "metadata": {},
   "outputs": [
    {
     "data": {
      "text/plain": [
       "Age             57\n",
       "Sex              2\n",
       "BP               3\n",
       "Cholesterol      2\n",
       "Na_to_K        198\n",
       "Drug             5\n",
       "dtype: int64"
      ]
     },
     "execution_count": 8,
     "metadata": {},
     "output_type": "execute_result"
    }
   ],
   "source": [
    "# Checking for unique values\n",
    "df.nunique()"
   ]
  },
  {
   "cell_type": "markdown",
   "id": "87bb7394",
   "metadata": {},
   "source": [
    "So there are 4 categorical variables that is Sex, BP, Cholestrol & Drug\n",
    "And; 2 numerical variable"
   ]
  },
  {
   "cell_type": "markdown",
   "id": "cfffbdcc",
   "metadata": {},
   "source": [
    "### Univariate Analysis"
   ]
  },
  {
   "cell_type": "code",
   "execution_count": 9,
   "id": "824537b9",
   "metadata": {},
   "outputs": [
    {
     "data": {
      "text/plain": [
       "['Age', 'Na_to_K']"
      ]
     },
     "execution_count": 9,
     "metadata": {},
     "output_type": "execute_result"
    }
   ],
   "source": [
    "# Creating a variable that holds the numeric variable and storing it as a list \n",
    "\n",
    "numerical_cols = df.select_dtypes(include = np.number).columns.to_list()\n",
    "numerical_cols"
   ]
  },
  {
   "cell_type": "code",
   "execution_count": 10,
   "id": "3ecc6109",
   "metadata": {
    "scrolled": false
   },
   "outputs": [
    {
     "data": {
      "image/png": "[encoded data removed]",
      "text/plain": [
       "<Figure size 1008x360 with 1 Axes>"
      ]
     },
     "metadata": {
      "needs_background": "light"
     },
     "output_type": "display_data"
    },
    {
     "data": {
      "image/png": "[encoded data removed]",
      "text/plain": [
       "<Figure size 1008x360 with 1 Axes>"
      ]
     },
     "metadata": {
      "needs_background": "light"
     },
     "output_type": "display_data"
    }
   ],
   "source": [
    "for col in numerical_cols:\n",
    "    plt.figure(figsize=(14,5))\n",
    "    sns.histplot(data=df,x=col,bins=10,kde=True)\n",
    "    plt.title(f\"Distribution of {col}\")"
   ]
  },
  {
   "cell_type": "markdown",
   "id": "ac19e514",
   "metadata": {},
   "source": [
    "We see that Na_to_K is right skewed, so performing log tranformation to look like normal distribution"
   ]
  },
  {
   "cell_type": "code",
   "execution_count": 11,
   "id": "22084658",
   "metadata": {},
   "outputs": [],
   "source": [
    "df['Na_to_K'] = np.log(df['Na_to_K'])"
   ]
  },
  {
   "cell_type": "code",
   "execution_count": 12,
   "id": "21cc2ce7",
   "metadata": {},
   "outputs": [
    {
     "data": {
      "text/plain": [
       "Text(0.5, 1.0, 'Distribution of Na_to_K')"
      ]
     },
     "execution_count": 12,
     "metadata": {},
     "output_type": "execute_result"
    },
    {
     "data": {
      "image/png": "[encoded data removed]",
      "text/plain": [
       "<Figure size 1008x360 with 1 Axes>"
      ]
     },
     "metadata": {
      "needs_background": "light"
     },
     "output_type": "display_data"
    }
   ],
   "source": [
    "plt.figure(figsize=(14,5))\n",
    "sns.histplot(data=df,x=df['Na_to_K'],bins=10,kde=True)\n",
    "plt.title(f\"Distribution of Na_to_K\")"
   ]
  },
  {
   "cell_type": "code",
   "execution_count": 13,
   "id": "c40acc5b",
   "metadata": {},
   "outputs": [
    {
     "data": {
      "text/plain": [
       "<AxesSubplot:xlabel='Drug', ylabel='Count'>"
      ]
     },
     "execution_count": 13,
     "metadata": {},
     "output_type": "execute_result"
    },
    {
     "data": {
      "image/png": "[encoded data removed]",
      "text/plain": [
       "<Figure size 432x288 with 1 Axes>"
      ]
     },
     "metadata": {
      "needs_background": "light"
     },
     "output_type": "display_data"
    }
   ],
   "source": [
    "sns.histplot(data=df,x=df['Drug'])"
   ]
  },
  {
   "cell_type": "markdown",
   "id": "a1599c3a",
   "metadata": {},
   "source": [
    "#### There is an imbalance in the target labels i.e.; Drug Y is abundantly present. Hence to compensate this and ignore the baising of the result, I will be using class weights to balance this situation by putting weights= \"uniform\" during knn classification <a href= '#s0'>here</a>."
   ]
  },
  {
   "cell_type": "code",
   "execution_count": 14,
   "id": "9441be76",
   "metadata": {},
   "outputs": [
    {
     "data": {
      "text/plain": [
       "['Sex', 'BP', 'Cholesterol', 'Drug']"
      ]
     },
     "execution_count": 14,
     "metadata": {},
     "output_type": "execute_result"
    }
   ],
   "source": [
    "# Categorical variables\n",
    "\n",
    "categorical_cols=df.select_dtypes(include=object).columns.to_list()\n",
    "categorical_cols"
   ]
  },
  {
   "cell_type": "code",
   "execution_count": 15,
   "id": "99b75f17",
   "metadata": {},
   "outputs": [
    {
     "data": {
      "text/html": [
       "<div>\n",
       "<style scoped>\n",
       "    .dataframe tbody tr th:only-of-type {\n",
       "        vertical-align: middle;\n",
       "    }\n",
       "\n",
       "    .dataframe tbody tr th {\n",
       "        vertical-align: top;\n",
       "    }\n",
       "\n",
       "    .dataframe thead th {\n",
       "        text-align: right;\n",
       "    }\n",
       "</style>\n",
       "<table border=\"1\" class=\"dataframe\">\n",
       "  <thead>\n",
       "    <tr style=\"text-align: right;\">\n",
       "      <th></th>\n",
       "      <th>Age</th>\n",
       "      <th>Sex</th>\n",
       "      <th>BP</th>\n",
       "      <th>Cholesterol</th>\n",
       "      <th>Na_to_K</th>\n",
       "      <th>Drug</th>\n",
       "    </tr>\n",
       "  </thead>\n",
       "  <tbody>\n",
       "    <tr>\n",
       "      <th>0</th>\n",
       "      <td>23</td>\n",
       "      <td>0</td>\n",
       "      <td>0</td>\n",
       "      <td>0</td>\n",
       "      <td>3.232976</td>\n",
       "      <td>0</td>\n",
       "    </tr>\n",
       "    <tr>\n",
       "      <th>1</th>\n",
       "      <td>47</td>\n",
       "      <td>1</td>\n",
       "      <td>1</td>\n",
       "      <td>0</td>\n",
       "      <td>2.572078</td>\n",
       "      <td>3</td>\n",
       "    </tr>\n",
       "    <tr>\n",
       "      <th>2</th>\n",
       "      <td>47</td>\n",
       "      <td>1</td>\n",
       "      <td>1</td>\n",
       "      <td>0</td>\n",
       "      <td>2.313921</td>\n",
       "      <td>3</td>\n",
       "    </tr>\n",
       "    <tr>\n",
       "      <th>3</th>\n",
       "      <td>28</td>\n",
       "      <td>0</td>\n",
       "      <td>2</td>\n",
       "      <td>0</td>\n",
       "      <td>2.053867</td>\n",
       "      <td>4</td>\n",
       "    </tr>\n",
       "    <tr>\n",
       "      <th>4</th>\n",
       "      <td>61</td>\n",
       "      <td>0</td>\n",
       "      <td>1</td>\n",
       "      <td>0</td>\n",
       "      <td>2.892758</td>\n",
       "      <td>0</td>\n",
       "    </tr>\n",
       "  </tbody>\n",
       "</table>\n",
       "</div>"
      ],
      "text/plain": [
       "   Age  Sex  BP  Cholesterol   Na_to_K  Drug\n",
       "0   23    0   0            0  3.232976     0\n",
       "1   47    1   1            0  2.572078     3\n",
       "2   47    1   1            0  2.313921     3\n",
       "3   28    0   2            0  2.053867     4\n",
       "4   61    0   1            0  2.892758     0"
      ]
     },
     "execution_count": 15,
     "metadata": {},
     "output_type": "execute_result"
    }
   ],
   "source": [
    "# Encoding Categorical Variable\n",
    "\n",
    "from sklearn.preprocessing import LabelEncoder\n",
    "le = LabelEncoder()\n",
    "for n in categorical_cols:\n",
    "    df[n] = le.fit_transform(df[n])\n",
    "df.head()"
   ]
  },
  {
   "cell_type": "code",
   "execution_count": 16,
   "id": "3f89109f",
   "metadata": {},
   "outputs": [
    {
     "name": "stdout",
     "output_type": "stream",
     "text": [
      "   Age  Sex  BP  Cholesterol   Na_to_K\n",
      "0   23    0   0            0  3.232976\n",
      "1   47    1   1            0  2.572078\n",
      "2   47    1   1            0  2.313921\n",
      "3   28    0   2            0  2.053867\n",
      "4   61    0   1            0  2.892758 \n",
      "\n",
      "0    0\n",
      "1    3\n",
      "2    3\n",
      "3    4\n",
      "4    0\n",
      "Name: Drug, dtype: int64\n"
     ]
    }
   ],
   "source": [
    "# Distribution of dependent and independent variable\n",
    "\n",
    "x = df.iloc[:,:5]\n",
    "y = df.iloc[:,-1]\n",
    "print(x.head(),\"\\n\")\n",
    "print(y.head())"
   ]
  },
  {
   "cell_type": "code",
   "execution_count": 17,
   "id": "fbc70c01",
   "metadata": {},
   "outputs": [
    {
     "data": {
      "text/plain": [
       "((150, 5), (150,), (50, 5), (50,))"
      ]
     },
     "execution_count": 17,
     "metadata": {},
     "output_type": "execute_result"
    }
   ],
   "source": [
    "# Splitting into train and test set\n",
    "\n",
    "from sklearn.model_selection import train_test_split\n",
    "\n",
    "x_train, x_test, y_train, y_test = train_test_split(x,y, random_state= 0) #Splitting test size to 25% as default value\n",
    "x_train.shape,y_train.shape,x_test.shape,y_test.shape # Checking the size of each test and train set"
   ]
  },
  {
   "cell_type": "code",
   "execution_count": 18,
   "id": "4199614c",
   "metadata": {},
   "outputs": [],
   "source": [
    "# Feature Scaling\n",
    "\n",
    "from sklearn.preprocessing import StandardScaler\n",
    "\n",
    "sc = StandardScaler()\n",
    "\n",
    "x_train = sc.fit_transform(x_train)\n",
    "x_test = sc.transform(x_test)"
   ]
  },
  {
   "cell_type": "code",
   "execution_count": 19,
   "id": "827e4bbd",
   "metadata": {},
   "outputs": [],
   "source": [
    "from sklearn.neighbors import KNeighborsClassifier\n",
    "\n",
    "\n",
    "\n",
    "# Using Euclidean distance\n",
    "# Using weights to ignore biasing of target variable\n",
    "k = KNeighborsClassifier(n_neighbors = 5, metric= \"minkowski\", p = 2, weights= \"uniform\") "
   ]
  },
  {
   "cell_type": "markdown",
   "id": "3783ea3d",
   "metadata": {},
   "source": [
    "#### Implementing cross validation to train model on multiple train-test splits<a id ='s0'></a>"
   ]
  },
  {
   "cell_type": "code",
   "execution_count": 20,
   "id": "8cc5af77",
   "metadata": {},
   "outputs": [
    {
     "name": "stdout",
     "output_type": "stream",
     "text": [
      "[0.86666667 0.93333333 0.73333333 0.93333333 0.73333333 0.66666667\n",
      " 0.66666667 1.         0.86666667 0.86666667]\n",
      "Average Result 0.8266666666666668\n"
     ]
    }
   ],
   "source": [
    "from sklearn.model_selection import cross_val_score\n",
    "\n",
    "result=cross_val_score(k,x_train,y_train,cv=10)\n",
    "print(result)\n",
    "print(\"Average Result\", result.mean())"
   ]
  },
  {
   "cell_type": "markdown",
   "id": "11de438f",
   "metadata": {},
   "source": [
    "As seen from the above result after applying K fold cross validation the lower accuracy of the model is 66.67% and the highest accuracy is 100, which can also be seen from the graph <a href= '#s1'>here</a>"
   ]
  },
  {
   "cell_type": "code",
   "execution_count": 21,
   "id": "7c63a777",
   "metadata": {},
   "outputs": [
    {
     "data": {
      "text/plain": [
       "KNeighborsClassifier()"
      ]
     },
     "execution_count": 21,
     "metadata": {},
     "output_type": "execute_result"
    }
   ],
   "source": [
    "k.fit(x_train,y_train) # Training models"
   ]
  },
  {
   "cell_type": "code",
   "execution_count": 22,
   "id": "3953d4ed",
   "metadata": {},
   "outputs": [],
   "source": [
    "# Making prediction \n",
    "\n",
    "y_pred = k.predict(x_test) # It will do the prediction of new data and give us the O/P"
   ]
  },
  {
   "cell_type": "code",
   "execution_count": 23,
   "id": "89c3a8d0",
   "metadata": {},
   "outputs": [
    {
     "name": "stdout",
     "output_type": "stream",
     "text": [
      "Accuracy score: 0.8\n",
      "Precision Score :  0.7779411764705882\n",
      "Recall Score :  0.7838333333333333\n"
     ]
    },
    {
     "data": {
      "image/png": "[encoded data removed]",
      "text/plain": [
       "<Figure size 432x288 with 2 Axes>"
      ]
     },
     "metadata": {
      "needs_background": "light"
     },
     "output_type": "display_data"
    }
   ],
   "source": [
    "# Creating Confusion metrics\n",
    "\n",
    "from sklearn import metrics\n",
    "\n",
    "\n",
    "cm = metrics.confusion_matrix(y_test, y_pred) #To compare predicted result with the actual result\n",
    "sns.heatmap(cm, annot=True)\n",
    "accuracy = metrics.accuracy_score(y_test, y_pred) # Checking accuracy of a model\n",
    "print(\"Accuracy score:\", accuracy)\n",
    "print(\"Precision Score : \", metrics.precision_score(y_test, y_pred, average='macro'))\n",
    "print(\"Recall Score : \",metrics.recall_score(y_test, y_pred, average='macro'))"
   ]
  },
  {
   "cell_type": "markdown",
   "id": "e7c8623f",
   "metadata": {},
   "source": [
    "We get an accuracy of 80%."
   ]
  },
  {
   "cell_type": "markdown",
   "id": "5aae3e45",
   "metadata": {},
   "source": [
    "#### Now checking the performance of testing and training dataset for different n_neighbors values. I will choose 1-40."
   ]
  },
  {
   "cell_type": "code",
   "execution_count": 24,
   "id": "3b6eeb86",
   "metadata": {},
   "outputs": [],
   "source": [
    "training_accuracy = []\n",
    "testing_accuracy = []\n",
    "for i in range(1,40):\n",
    "    knn = KNeighborsClassifier(n_neighbors= i)\n",
    "    knn.fit(x_train, y_train)\n",
    "    training_accuracy.append(knn.score(x_train,y_train))\n",
    "    testing_accuracy.append(knn.score(x_test,y_test))\n",
    "    \n",
    "    \n",
    "# accuracy(y_test, y_pred)"
   ]
  },
  {
   "cell_type": "markdown",
   "id": "e778db96",
   "metadata": {},
   "source": [
    "#### Graph fro 1-40 knn values <a id ='s1'></a>"
   ]
  },
  {
   "cell_type": "code",
   "execution_count": 25,
   "id": "44bfc235",
   "metadata": {
    "scrolled": true
   },
   "outputs": [
    {
     "data": {
      "image/png": "[encoded data removed]",
      "text/plain": [
       "<Figure size 720x360 with 1 Axes>"
      ]
     },
     "metadata": {
      "needs_background": "light"
     },
     "output_type": "display_data"
    }
   ],
   "source": [
    "# Plotting test, train accuracy with n_neighbors \n",
    "\n",
    "\n",
    "plt.figure(figsize=(10,5))\n",
    "plt.plot(range(1,40), testing_accuracy, label = \"Testing Accuracy\")\n",
    "plt.plot(range(1,40), training_accuracy, label = \"Training Accuracy\")\n",
    "plt.title('Training vs Testing Accuracy')\n",
    "plt.xlabel('n_neighbors')\n",
    "plt.ylabel('Accuracy')\n",
    "plt.legend(loc = 'best')\n",
    "plt.show()"
   ]
  }
 ],
 "metadata": {
  "kernelspec": {
   "display_name": "Python 3 (ipykernel)",
   "language": "python",
   "name": "python3"
  },
  "language_info": {
   "codemirror_mode": {
    "name": "ipython",
    "version": 3
   },
   "file_extension": ".py",
   "mimetype": "text/x-python",
   "name": "python",
   "nbconvert_exporter": "python",
   "pygments_lexer": "ipython3",
   "version": "3.9.7"
  }
 },
 "nbformat": 4,
 "nbformat_minor": 5
}
